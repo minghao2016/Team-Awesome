{
 "cells": [
  {
   "cell_type": "code",
   "execution_count": 5,
   "metadata": {},
   "outputs": [],
   "source": [
    "import pandas as pd\n",
    "\n",
    "col_names=[\"id\",\n",
    "           \"amt_given_credit\",  # amount of given credit\n",
    "           \"gender\",            # 1=male; 2=female\n",
    "           \"education\",         # 1=grad school; 2=uni; 3=high school; 4=others\n",
    "           \"marital\",           # 1=married; 2=single; 3=others\n",
    "           \"age\",               # age\n",
    "\n",
    "           # histories of past payments\n",
    "           # -1=pay duly; 1=payment delay one month; 2=payment delay two months\n",
    "           # ... 8=payment delay eight months; 9=payment delay nine months+\n",
    "           \"hist_sept\", \"hist_august\", \"hist_july\",\n",
    "           \"hist_june\", \"hist_may\", \"hist_april\",\n",
    "\n",
    "           # amount of billing statements\n",
    "           \"billed_sept\", \"billed_august\", \"billed_july\",\n",
    "           \"billed_june\", \"billed_may\", \"billed_april\",\n",
    "\n",
    "           # amount of previous payment\n",
    "           \"prev_sept\", \"prev_august\", \"prev_july\",\n",
    "           \"prev_june\", \"prev_may\", \"prev_april\",\n",
    "\n",
    "           # default payment; 1=yes; 2=no\n",
    "           \"is_default\"]\n",
    "data = pd.read_csv('week12.csv', header=0, names=col_names)\n",
    "\n",
    "# the first column is the ID column, which we don't care about.\n",
    "# the features are in columns 2 - 23\n",
    "# the target variable is in the last column\n",
    "X_data = data.iloc[:,1:-1]\n",
    "y_data = data.iloc[:,-1]"
   ]
  },
  {
   "cell_type": "code",
   "execution_count": 6,
   "metadata": {},
   "outputs": [],
   "source": [
    "from sklearn.model_selection import train_test_split\n",
    "\n",
    "X_train, X_test, y_train, y_test = train_test_split(\n",
    "  X_data, y_data, test_size=0.2, random_state=1, stratify=y_data\n",
    ")"
   ]
  },
  {
   "cell_type": "code",
   "execution_count": 7,
   "metadata": {},
   "outputs": [
    {
     "name": "stderr",
     "output_type": "stream",
     "text": [
      "C:\\Anaconda3\\lib\\site-packages\\sklearn\\preprocessing\\data.py:645: DataConversionWarning: Data with input dtype int64 were all converted to float64 by StandardScaler.\n",
      "  return self.partial_fit(X, y)\n",
      "C:\\Anaconda3\\lib\\site-packages\\sklearn\\base.py:467: DataConversionWarning: Data with input dtype int64 were all converted to float64 by StandardScaler.\n",
      "  return self.fit(X, y, **fit_params).transform(X)\n",
      "C:\\Anaconda3\\lib\\site-packages\\sklearn\\pipeline.py:331: DataConversionWarning: Data with input dtype int64 were all converted to float64 by StandardScaler.\n",
      "  Xt = transform.transform(Xt)\n",
      "C:\\Anaconda3\\lib\\site-packages\\sklearn\\pipeline.py:511: DataConversionWarning: Data with input dtype int64 were all converted to float64 by StandardScaler.\n",
      "  Xt = transform.transform(Xt)\n"
     ]
    },
    {
     "name": "stdout",
     "output_type": "stream",
     "text": [
      "Test Accuracy: 0.818\n"
     ]
    }
   ],
   "source": [
    "from sklearn.ensemble import RandomForestClassifier\n",
    "from sklearn.model_selection import GridSearchCV\n",
    "from sklearn.pipeline import make_pipeline\n",
    "from sklearn.preprocessing import StandardScaler\n",
    "\n",
    "rfc = RandomForestClassifier(n_estimators=100, criterion='gini')\n",
    "\n",
    "pipeline = make_pipeline(StandardScaler(),\n",
    "                        rfc)\n",
    "\n",
    "pipeline.fit(X_train, y_train)\n",
    "y_pred = pipeline.predict(X_test)\n",
    "\n",
    "print('Test Accuracy: %.3f' % pipeline.score(X_test, y_test))"
   ]
  }
 ],
 "metadata": {
  "kernelspec": {
   "display_name": "Python 3",
   "language": "python",
   "name": "python3"
  },
  "language_info": {
   "codemirror_mode": {
    "name": "ipython",
    "version": 3
   },
   "file_extension": ".py",
   "mimetype": "text/x-python",
   "name": "python",
   "nbconvert_exporter": "python",
   "pygments_lexer": "ipython3",
   "version": "3.7.1"
  }
 },
 "nbformat": 4,
 "nbformat_minor": 1
}
